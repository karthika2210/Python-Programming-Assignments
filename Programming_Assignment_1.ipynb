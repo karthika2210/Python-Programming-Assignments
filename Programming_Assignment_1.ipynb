{
 "cells": [
  {
   "cell_type": "markdown",
   "id": "762cc458",
   "metadata": {},
   "source": [
    "1.\tWrite a Python program to print \"Hello Python\"?"
   ]
  },
  {
   "cell_type": "code",
   "execution_count": 1,
   "id": "f4e8cb6f",
   "metadata": {},
   "outputs": [
    {
     "name": "stdout",
     "output_type": "stream",
     "text": [
      "Hello world\n"
     ]
    }
   ],
   "source": [
    "print(\"Hello world\")"
   ]
  },
  {
   "cell_type": "markdown",
   "id": "0c1f63dc",
   "metadata": {},
   "source": [
    "2.\tWrite a Python program to do arithmetical operations addition and division.?"
   ]
  },
  {
   "cell_type": "code",
   "execution_count": 26,
   "id": "abd3a069",
   "metadata": {},
   "outputs": [
    {
     "name": "stdout",
     "output_type": "stream",
     "text": [
      "Enter first number: 22\n",
      "Enter second number: 15\n",
      "Sum is: 37\n",
      "remainder is 1.4666666666666666\n"
     ]
    }
   ],
   "source": [
    "class ArithamaticalOperations:\n",
    "    def __init__(self, a, b):\n",
    "        self.a = a\n",
    "        self.b = b\n",
    "    def additionOperation(self):\n",
    "        sum = self.a + self.b\n",
    "        print(\"Sum is:\", sum)\n",
    "    def DivisionOPeration(self):\n",
    "        div = self.a/self.b\n",
    "        print(\"remainder is\", div)\n",
    "    \n",
    "num1 = int(input('Enter first number: '))\n",
    "num2 = int(input('Enter second number: '))\n",
    "a1 = ArithamaticalOperations(num1, num2)\n",
    "a1.additionOperation()\n",
    "a1.DivisionOPeration()"
   ]
  },
  {
   "cell_type": "markdown",
   "id": "9945afe5",
   "metadata": {},
   "source": [
    "3.Write a Python program to find the area of a triangle?"
   ]
  },
  {
   "cell_type": "code",
   "execution_count": 25,
   "id": "63375db9",
   "metadata": {},
   "outputs": [
    {
     "name": "stdout",
     "output_type": "stream",
     "text": [
      "Enter breadth of triangle: 10\n",
      "Enter height of triangle: 20\n",
      "area of triangle is: 100.0\n"
     ]
    }
   ],
   "source": [
    "class AreaOfTriangle:\n",
    "    def __init__(self, breadth, height):\n",
    "        self.breadth = breadth\n",
    "        self.height = height\n",
    "    def area(self):\n",
    "        area = 1/2 * (self.breadth * self.height)\n",
    "        print(\"area of triangle is:\", area)\n",
    "\n",
    "breadth = int(input('Enter breadth of triangle: '))\n",
    "height = int(input('Enter height of triangle: '))\n",
    "a1 = AreaOfTriangle(breadth, height)\n",
    "a1.area()"
   ]
  },
  {
   "cell_type": "markdown",
   "id": "d8b1bc01",
   "metadata": {},
   "source": [
    "4.\tWrite a Python program to swap two variables?"
   ]
  },
  {
   "cell_type": "code",
   "execution_count": 28,
   "id": "a790b3aa",
   "metadata": {},
   "outputs": [
    {
     "name": "stdout",
     "output_type": "stream",
     "text": [
      "Variable before swapping: a and b\n",
      "Variable after swapping: b and a\n"
     ]
    }
   ],
   "source": [
    "class SwapVariable:\n",
    "    def __init__(self, a, b):\n",
    "        self.a = a\n",
    "        self.b = b\n",
    "        \n",
    "    def variableSwapping(self):\n",
    "        print(\"Variable before swapping:\", self.a + \" and \" + self.b)\n",
    "        c = self.a\n",
    "        self.a = self.b\n",
    "        self.b = c\n",
    "        print(\"Variable after swapping:\", self.a + \" and \" + self.b)\n",
    "        \n",
    "s1 = SwapVariable(\"a\", \"b\")\n",
    "s1.variableSwapping()\n",
    "        "
   ]
  },
  {
   "cell_type": "markdown",
   "id": "a9b283de",
   "metadata": {},
   "source": [
    "5.\tWrite a Python program to generate a random number?"
   ]
  },
  {
   "cell_type": "code",
   "execution_count": 24,
   "id": "d33aa8eb",
   "metadata": {},
   "outputs": [
    {
     "name": "stdout",
     "output_type": "stream",
     "text": [
      "Enter a start number: 10\n",
      "Enter a end number: 899\n",
      "Random number in a given range 283\n",
      "random float number between 0 and 1 is 0.7301429664423\n"
     ]
    }
   ],
   "source": [
    "import random\n",
    "class RandomNumberGeneration:\n",
    "    def __init__(self, a, b):\n",
    "        self.a = a\n",
    "        self.b = b\n",
    "        \n",
    "    def generateRandomNumber(self):\n",
    "        output1 = random.randint(self.a, self.b)        \n",
    "        print(\"Random number in a given range {}\".format(output1))\n",
    "        output2 = random.random()\n",
    "        print(\"random float number between 0 and 1 is {}\".format(output2))\n",
    "\n",
    "num1 = int(input('Enter a start number: '))\n",
    "num2 = int(input('Enter a end number: '))\n",
    "r1 = RandomNumberGeneration(num1, num2)\n",
    "r1.generateRandomNumber()"
   ]
  },
  {
   "cell_type": "code",
   "execution_count": null,
   "id": "26afbfdd",
   "metadata": {},
   "outputs": [],
   "source": []
  }
 ],
 "metadata": {
  "kernelspec": {
   "display_name": "Python 3 (ipykernel)",
   "language": "python",
   "name": "python3"
  },
  "language_info": {
   "codemirror_mode": {
    "name": "ipython",
    "version": 3
   },
   "file_extension": ".py",
   "mimetype": "text/x-python",
   "name": "python",
   "nbconvert_exporter": "python",
   "pygments_lexer": "ipython3",
   "version": "3.9.13"
  }
 },
 "nbformat": 4,
 "nbformat_minor": 5
}
