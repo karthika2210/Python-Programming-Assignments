{
 "cells": [
  {
   "cell_type": "markdown",
   "id": "f5e27de4",
   "metadata": {},
   "source": [
    "1.\tWrite a Python program to convert kilometers to miles?"
   ]
  },
  {
   "cell_type": "code",
   "execution_count": 1,
   "id": "ed9dc8e8",
   "metadata": {},
   "outputs": [
    {
     "name": "stdout",
     "output_type": "stream",
     "text": [
      "Enter kilometer value: 23\n",
      "23.0 Kilometer is 14.29157294294563 miles\n"
     ]
    }
   ],
   "source": [
    "class KilometersToMilesConversion:\n",
    "    def __init__(self, a):\n",
    "        self.a = a\n",
    "        \n",
    "    def convertKilometersToMiles(self):\n",
    "        conversion_factor = 0.62137273664981\n",
    "        kiloMeters = self.a*conversion_factor\n",
    "        print(\"{} Kilometer is {} miles\".format(self.a, kiloMeters))\n",
    "        \n",
    "if __name__==\"__main__\":\n",
    "    \n",
    "    inputKilometr = float(input(\"Enter kilometer value: \"))\n",
    "    km = KilometersToMilesConversion(inputKilometr)\n",
    "    km.convertKilometersToMiles()"
   ]
  },
  {
   "cell_type": "markdown",
   "id": "6c41acc5",
   "metadata": {},
   "source": [
    "2.\tWrite a Python program to convert Celsius to Fahrenheit?"
   ]
  },
  {
   "cell_type": "code",
   "execution_count": 2,
   "id": "6b63c6ee",
   "metadata": {},
   "outputs": [
    {
     "name": "stdout",
     "output_type": "stream",
     "text": [
      "Enter celcius value: 37\n",
      "37.0 celcius is 98.60000000000001 Fahrenheit\n"
     ]
    }
   ],
   "source": [
    "class CelsiusToFahrenheitConversion:\n",
    "    def __init__(self, celciusInput):\n",
    "        self.celciusInput = celciusInput\n",
    "        \n",
    "    def convertCelsiusToFahrenheit(self):\n",
    "        fahrenheit = (self.celciusInput * 1.8) + 32\n",
    "        print(\"{} celcius is {} Fahrenheit\".format(self.celciusInput, fahrenheit))\n",
    "        \n",
    "if __name__==\"__main__\":\n",
    "    \n",
    "    celciusInput = float(input(\"Enter celcius value: \"))\n",
    "    cf = CelsiusToFahrenheitConversion(celciusInput)\n",
    "    cf.convertCelsiusToFahrenheit()"
   ]
  },
  {
   "cell_type": "markdown",
   "id": "fbfa6835",
   "metadata": {},
   "source": [
    "3.\tWrite a Python program to display calendar?"
   ]
  },
  {
   "cell_type": "code",
   "execution_count": 6,
   "id": "9f06cc0a",
   "metadata": {},
   "outputs": [
    {
     "name": "stdout",
     "output_type": "stream",
     "text": [
      "Enter the year: 1234\n",
      "Enter the month: 54\n",
      "Enter the value of month between 1 & 12\n"
     ]
    }
   ],
   "source": [
    "import calendar\n",
    "\n",
    "class DisplayCalendar:\n",
    "    def __init__(self, year, month):\n",
    "        self.month = month\n",
    "        self.year = year\n",
    "        \n",
    "    def displayCalendar(self):\n",
    "        if(self.month <= 13):\n",
    "            print(calendar.month(self.year, self.month))\n",
    "        else:\n",
    "            print(\"Enter the value of month between 1 & 12\")\n",
    "            \n",
    "if __name__==\"__main__\":\n",
    "    yy = int(input(\"Enter the year: \"))   \n",
    "    mm = int(input(\"Enter the month: \"))\n",
    "    c1 = DisplayCalendar(yy, mm)\n",
    "    c1.displayCalendar()"
   ]
  },
  {
   "cell_type": "markdown",
   "id": "52b6aa92",
   "metadata": {},
   "source": [
    "4.\tWrite a Python program to solve quadratic equation?"
   ]
  },
  {
   "cell_type": "code",
   "execution_count": 5,
   "id": "2f7a29e9",
   "metadata": {},
   "outputs": [
    {
     "name": "stdout",
     "output_type": "stream",
     "text": [
      "Enter the value of a: 12\n",
      "Enter the value of b: 34\n",
      "Enter the value of c: 5\n",
      "The solution are -22.407048594941323 and -385.59295140505867\n"
     ]
    }
   ],
   "source": [
    "import math\n",
    "\n",
    "class QuadraticEquation:\n",
    "    def __init__(self, a, b, c):\n",
    "        self.a = a\n",
    "        self.b = b\n",
    "        self.c = c\n",
    "        \n",
    "    def calculateQuadracticEquation(self):\n",
    "        sol1 = ((-self.b) + math.sqrt(self.b**2 - (4*self.a*self.c)))/2*self.a\n",
    "        sol2 = ((-self.b) - math.sqrt(self.b**2 - (4*self.a*self.c)))/2*self.a\n",
    "        print('The solution are {} and {}'.format(sol1,sol2))\n",
    "        \n",
    "if __name__==\"__main__\":\n",
    "    in1 = int(input(\"Enter the value of a: \"))\n",
    "    in2 = int(input(\"Enter the value of b: \"))\n",
    "    in3 = int(input(\"Enter the value of c: \"))\n",
    "    qe = QuadraticEquation(in1, in2, in3)\n",
    "    qe.calculateQuadracticEquation()"
   ]
  },
  {
   "cell_type": "markdown",
   "id": "2a21a484",
   "metadata": {},
   "source": [
    "5.\tWrite a Python program to swap two variables without temp variable?"
   ]
  },
  {
   "cell_type": "code",
   "execution_count": 13,
   "id": "9ec19389",
   "metadata": {},
   "outputs": [
    {
     "name": "stdout",
     "output_type": "stream",
     "text": [
      "Enter the value of a: 23\n",
      "Enter the value of b: 56\n",
      "Variable before swapping: 23 and 56\n",
      "Variable after swapping: 56 and 23\n"
     ]
    }
   ],
   "source": [
    "class SwapVariable:\n",
    "    def __init__(self, a, b):\n",
    "        self.a = a\n",
    "        self.b = b\n",
    "        \n",
    "    def variableSwapping(self):\n",
    "        print(\"Variable before swapping: {} and {}\".format(self.a, self.b))\n",
    "        self.a = self.a + self.b\n",
    "        self.b = self.a - self.b\n",
    "        self.a = self.a - self.b\n",
    "        print(\"Variable after swapping: {} and {}\".format(self.a, self.b))\n",
    "        \n",
    "if __name__==\"__main__\":\n",
    "    in1 = int(input(\"Enter the value of a: \"))\n",
    "    in2 = int(input(\"Enter the value of b: \"))\n",
    "    sw = SwapVariable(in1, in2)\n",
    "    sw.variableSwapping()"
   ]
  }
 ],
 "metadata": {
  "kernelspec": {
   "display_name": "Python 3 (ipykernel)",
   "language": "python",
   "name": "python3"
  },
  "language_info": {
   "codemirror_mode": {
    "name": "ipython",
    "version": 3
   },
   "file_extension": ".py",
   "mimetype": "text/x-python",
   "name": "python",
   "nbconvert_exporter": "python",
   "pygments_lexer": "ipython3",
   "version": "3.9.13"
  }
 },
 "nbformat": 4,
 "nbformat_minor": 5
}
